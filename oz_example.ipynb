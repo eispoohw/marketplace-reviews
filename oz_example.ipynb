{
 "cells": [
  {
   "cell_type": "code",
   "execution_count": 1,
   "metadata": {
    "collapsed": true
   },
   "outputs": [],
   "source": [
    "from parsers.OzonParser import OzonParser"
   ]
  },
  {
   "cell_type": "code",
   "execution_count": 2,
   "outputs": [],
   "source": [
    "product = \"https://www.ozon.ru/product/futbolka-uzcotton-601090731/\"\n",
    "filename = \"ozon_out.html\""
   ],
   "metadata": {
    "collapsed": false,
    "pycharm": {
     "name": "#%%\n"
    }
   }
  },
  {
   "cell_type": "code",
   "execution_count": 3,
   "outputs": [
    {
     "name": "stdout",
     "output_type": "stream",
     "text": [
      "Parser created!\n",
      "Webdriver started.\n",
      "\n",
      "Collecting data ...\n",
      "1 2 3 4 5 6 7 8 9 10 11 12 13 14 15 16 17 18 19 20 21 \n",
      "Completed! Data collected and stored in \"ozon_out.html\"\n",
      "\n"
     ]
    }
   ],
   "source": [
    "parser = OzonParser()\n",
    "parser.get_raw_html(product, filename)"
   ],
   "metadata": {
    "collapsed": false,
    "pycharm": {
     "name": "#%%\n"
    }
   }
  },
  {
   "cell_type": "code",
   "execution_count": 4,
   "outputs": [
    {
     "name": "stdout",
     "output_type": "stream",
     "text": [
      "Converting html to csv...\n",
      "Found 1167 reviews\n"
     ]
    },
    {
     "name": "stderr",
     "output_type": "stream",
     "text": [
      "100%|██████████| 1167/1167 [00:02<00:00, 472.16it/s]"
     ]
    },
    {
     "name": "stdout",
     "output_type": "stream",
     "text": [
      "Done! Data saved to None\n"
     ]
    },
    {
     "name": "stderr",
     "output_type": "stream",
     "text": [
      "\n"
     ]
    }
   ],
   "source": [
    "data = parser.convert_html_to_csv(\"ozon_out.html\")"
   ],
   "metadata": {
    "collapsed": false,
    "pycharm": {
     "name": "#%%\n"
    }
   }
  },
  {
   "cell_type": "code",
   "execution_count": 5,
   "outputs": [
    {
     "name": "stdout",
     "output_type": "stream",
     "text": [
      "<class 'pandas.core.frame.DataFrame'>\n",
      "RangeIndex: 1167 entries, 0 to 1166\n",
      "Data columns (total 12 columns):\n",
      " #   Column                Non-Null Count  Dtype  \n",
      "---  ------                --------------  -----  \n",
      " 0   author                1167 non-null   object \n",
      " 1   date                  1167 non-null   object \n",
      " 2   цвет_товара           420 non-null    object \n",
      " 3   российский_размер     420 non-null    object \n",
      " 4   размер_производителя  420 non-null    object \n",
      " 5   название_цвета        420 non-null    object \n",
      " 6   достоинства           303 non-null    object \n",
      " 7   недостатки            225 non-null    object \n",
      " 8   комментарий           213 non-null    object \n",
      " 9   rate                  1167 non-null   float64\n",
      " 10  upvote                1167 non-null   int64  \n",
      " 11  downvote              1167 non-null   int64  \n",
      "dtypes: float64(1), int64(2), object(9)\n",
      "memory usage: 109.5+ KB\n"
     ]
    }
   ],
   "source": [
    "data.info()"
   ],
   "metadata": {
    "collapsed": false,
    "pycharm": {
     "name": "#%%\n"
    }
   }
  },
  {
   "cell_type": "code",
   "execution_count": 6,
   "outputs": [
    {
     "data": {
      "text/plain": "              rate       upvote     downvote\ncount  1167.000000  1167.000000  1167.000000\nmean      4.838903     0.109683     0.018852\nstd       0.484506     0.990504     0.174697\nmin       1.000000     0.000000     0.000000\n25%       5.000000     0.000000     0.000000\n50%       5.000000     0.000000     0.000000\n75%       5.000000     0.000000     0.000000\nmax       5.000000    21.000000     3.000000",
      "text/html": "<div>\n<style scoped>\n    .dataframe tbody tr th:only-of-type {\n        vertical-align: middle;\n    }\n\n    .dataframe tbody tr th {\n        vertical-align: top;\n    }\n\n    .dataframe thead th {\n        text-align: right;\n    }\n</style>\n<table border=\"1\" class=\"dataframe\">\n  <thead>\n    <tr style=\"text-align: right;\">\n      <th></th>\n      <th>rate</th>\n      <th>upvote</th>\n      <th>downvote</th>\n    </tr>\n  </thead>\n  <tbody>\n    <tr>\n      <th>count</th>\n      <td>1167.000000</td>\n      <td>1167.000000</td>\n      <td>1167.000000</td>\n    </tr>\n    <tr>\n      <th>mean</th>\n      <td>4.838903</td>\n      <td>0.109683</td>\n      <td>0.018852</td>\n    </tr>\n    <tr>\n      <th>std</th>\n      <td>0.484506</td>\n      <td>0.990504</td>\n      <td>0.174697</td>\n    </tr>\n    <tr>\n      <th>min</th>\n      <td>1.000000</td>\n      <td>0.000000</td>\n      <td>0.000000</td>\n    </tr>\n    <tr>\n      <th>25%</th>\n      <td>5.000000</td>\n      <td>0.000000</td>\n      <td>0.000000</td>\n    </tr>\n    <tr>\n      <th>50%</th>\n      <td>5.000000</td>\n      <td>0.000000</td>\n      <td>0.000000</td>\n    </tr>\n    <tr>\n      <th>75%</th>\n      <td>5.000000</td>\n      <td>0.000000</td>\n      <td>0.000000</td>\n    </tr>\n    <tr>\n      <th>max</th>\n      <td>5.000000</td>\n      <td>21.000000</td>\n      <td>3.000000</td>\n    </tr>\n  </tbody>\n</table>\n</div>"
     },
     "execution_count": 6,
     "metadata": {},
     "output_type": "execute_result"
    }
   ],
   "source": [
    "data.describe()"
   ],
   "metadata": {
    "collapsed": false,
    "pycharm": {
     "name": "#%%\n"
    }
   }
  },
  {
   "cell_type": "code",
   "execution_count": 7,
   "outputs": [
    {
     "data": {
      "text/plain": "            author        date цвет_товара российский_размер  \\\n284        Юлия Ш.  2023-01-31         NaN               NaN   \n977       Ольга Б.  2022-08-29         NaN               NaN   \n170       Мария И.  2023-01-22         NaN               NaN   \n594       Ирина К.  2022-11-27   оранжевый             52-54   \n1107  Прокурова К.  2022-07-27         NaN               NaN   \n\n     размер_производителя название_цвета  \\\n284                   NaN            NaN   \n977                   NaN            NaN   \n170                   NaN            NaN   \n594                   XXL         Персик   \n1107                  NaN            NaN   \n\n                                            достоинства недостатки  \\\n284                                                 NaN        Нет   \n977                            классное качествоплттная        NaN   \n170                                                 NaN        NaN   \n594                                                 NaN        NaN   \n1107  Отличная футболка. По отзывам большемерит на р...        NaN   \n\n     комментарий  rate  upvote  downvote  \n284          NaN   5.0       0         0  \n977          NaN   5.0       0         0  \n170          NaN   5.0       0         0  \n594          NaN   5.0       0         0  \n1107         NaN   5.0       0         0  ",
      "text/html": "<div>\n<style scoped>\n    .dataframe tbody tr th:only-of-type {\n        vertical-align: middle;\n    }\n\n    .dataframe tbody tr th {\n        vertical-align: top;\n    }\n\n    .dataframe thead th {\n        text-align: right;\n    }\n</style>\n<table border=\"1\" class=\"dataframe\">\n  <thead>\n    <tr style=\"text-align: right;\">\n      <th></th>\n      <th>author</th>\n      <th>date</th>\n      <th>цвет_товара</th>\n      <th>российский_размер</th>\n      <th>размер_производителя</th>\n      <th>название_цвета</th>\n      <th>достоинства</th>\n      <th>недостатки</th>\n      <th>комментарий</th>\n      <th>rate</th>\n      <th>upvote</th>\n      <th>downvote</th>\n    </tr>\n  </thead>\n  <tbody>\n    <tr>\n      <th>284</th>\n      <td>Юлия Ш.</td>\n      <td>2023-01-31</td>\n      <td>NaN</td>\n      <td>NaN</td>\n      <td>NaN</td>\n      <td>NaN</td>\n      <td>NaN</td>\n      <td>Нет</td>\n      <td>NaN</td>\n      <td>5.0</td>\n      <td>0</td>\n      <td>0</td>\n    </tr>\n    <tr>\n      <th>977</th>\n      <td>Ольга Б.</td>\n      <td>2022-08-29</td>\n      <td>NaN</td>\n      <td>NaN</td>\n      <td>NaN</td>\n      <td>NaN</td>\n      <td>классное качествоплттная</td>\n      <td>NaN</td>\n      <td>NaN</td>\n      <td>5.0</td>\n      <td>0</td>\n      <td>0</td>\n    </tr>\n    <tr>\n      <th>170</th>\n      <td>Мария И.</td>\n      <td>2023-01-22</td>\n      <td>NaN</td>\n      <td>NaN</td>\n      <td>NaN</td>\n      <td>NaN</td>\n      <td>NaN</td>\n      <td>NaN</td>\n      <td>NaN</td>\n      <td>5.0</td>\n      <td>0</td>\n      <td>0</td>\n    </tr>\n    <tr>\n      <th>594</th>\n      <td>Ирина К.</td>\n      <td>2022-11-27</td>\n      <td>оранжевый</td>\n      <td>52-54</td>\n      <td>XXL</td>\n      <td>Персик</td>\n      <td>NaN</td>\n      <td>NaN</td>\n      <td>NaN</td>\n      <td>5.0</td>\n      <td>0</td>\n      <td>0</td>\n    </tr>\n    <tr>\n      <th>1107</th>\n      <td>Прокурова К.</td>\n      <td>2022-07-27</td>\n      <td>NaN</td>\n      <td>NaN</td>\n      <td>NaN</td>\n      <td>NaN</td>\n      <td>Отличная футболка. По отзывам большемерит на р...</td>\n      <td>NaN</td>\n      <td>NaN</td>\n      <td>5.0</td>\n      <td>0</td>\n      <td>0</td>\n    </tr>\n  </tbody>\n</table>\n</div>"
     },
     "execution_count": 7,
     "metadata": {},
     "output_type": "execute_result"
    }
   ],
   "source": [
    "data.sample(5)"
   ],
   "metadata": {
    "collapsed": false,
    "pycharm": {
     "name": "#%%\n"
    }
   }
  },
  {
   "cell_type": "code",
   "execution_count": 8,
   "outputs": [
    {
     "data": {
      "text/plain": "                                         author        date цвет_товара  \\\n1157                                Алевтина Х.  2022-07-05         NaN   \n1166                             Смородинова М.  2022-06-22         NaN   \n1114                                    Юлия Д.  2022-07-26         NaN   \n851                                     Лола Н.  2022-09-24         NaN   \n1144                                    Анна П.  2022-07-18         NaN   \n1020  Пользователь предпочёл скрыть свои данные  2022-08-14         NaN   \n79                                      Анна Л.  2023-01-30         NaN   \n49                                      Anna J.  2023-01-02     лиловый   \n50                                      Anna J.  2023-01-02     голубой   \n1164                                   Алина М.  2022-06-22         NaN   \n\n     российский_размер размер_производителя название_цвета  \\\n1157               NaN                  NaN            NaN   \n1166               NaN                  NaN            NaN   \n1114               NaN                  NaN            NaN   \n851                NaN                  NaN            NaN   \n1144               NaN                  NaN            NaN   \n1020               NaN                  NaN            NaN   \n79                 NaN                  NaN            NaN   \n49               52-54                  XXL        Лиловый   \n50               52-54                  XXL           Небо   \n1164               NaN                  NaN            NaN   \n\n                                            достоинства  \\\n1157                      Футболка в целом хорошая, но…   \n1166                                                NaN   \n1114                                                NaN   \n851                     ткань хорошая очень 100% хлопок   \n1144     Оверсайз, да,  подходит, плотная, форму держит   \n1020  Футболка плотная, не просвечивает. Всё прошито...   \n79    хлопок отличного качества, швы хорошо обработаны.   \n49    плотный хороший трикотаж , очень приятная расц...   \n50     отлчный трикотаж , цена по акции , приятный цвет   \n1164                                                NaN   \n\n                                             недостатки  \\\n1157  Следы от ручки! Зачем это было делать. не поня...   \n1166                                                NaN   \n1114                                               Ужас   \n851                                                нету   \n1144     Цвет более яркий, вкрапления какие-то имеются.   \n1020                                               Нет.   \n79                                                  нет   \n49                                        плохо тянется   \n50    плохо тянется , надо брать на один - два разме...   \n1164                                                NaN   \n\n                                            комментарий  rate  upvote  \\\n1157                                                NaN   3.0      21   \n1166                                                NaN   5.0       0   \n1114                                                NaN   1.0       0   \n851                             ещё заказала рекомендую   5.0       2   \n1144  Я ожидала более  утонченный цвет этой футболки...   4.0       1   \n1020          Размер подошёл. 52-54 р-р. Мерки на фото.   5.0      18   \n79                                 рекомендую к покупке   5.0       0   \n49                      покупала 50/52 , поменяла 52/54   5.0       0   \n50    поменяла с 50/52 на 52/54 - всё хорошо , тольк...   5.0       4   \n1164                                                NaN   5.0       0   \n\n      downvote  \n1157         3  \n1166         2  \n1114         2  \n851          2  \n1144         2  \n1020         1  \n79           1  \n49           1  \n50           1  \n1164         1  ",
      "text/html": "<div>\n<style scoped>\n    .dataframe tbody tr th:only-of-type {\n        vertical-align: middle;\n    }\n\n    .dataframe tbody tr th {\n        vertical-align: top;\n    }\n\n    .dataframe thead th {\n        text-align: right;\n    }\n</style>\n<table border=\"1\" class=\"dataframe\">\n  <thead>\n    <tr style=\"text-align: right;\">\n      <th></th>\n      <th>author</th>\n      <th>date</th>\n      <th>цвет_товара</th>\n      <th>российский_размер</th>\n      <th>размер_производителя</th>\n      <th>название_цвета</th>\n      <th>достоинства</th>\n      <th>недостатки</th>\n      <th>комментарий</th>\n      <th>rate</th>\n      <th>upvote</th>\n      <th>downvote</th>\n    </tr>\n  </thead>\n  <tbody>\n    <tr>\n      <th>1157</th>\n      <td>Алевтина Х.</td>\n      <td>2022-07-05</td>\n      <td>NaN</td>\n      <td>NaN</td>\n      <td>NaN</td>\n      <td>NaN</td>\n      <td>Футболка в целом хорошая, но…</td>\n      <td>Следы от ручки! Зачем это было делать. не поня...</td>\n      <td>NaN</td>\n      <td>3.0</td>\n      <td>21</td>\n      <td>3</td>\n    </tr>\n    <tr>\n      <th>1166</th>\n      <td>Смородинова М.</td>\n      <td>2022-06-22</td>\n      <td>NaN</td>\n      <td>NaN</td>\n      <td>NaN</td>\n      <td>NaN</td>\n      <td>NaN</td>\n      <td>NaN</td>\n      <td>NaN</td>\n      <td>5.0</td>\n      <td>0</td>\n      <td>2</td>\n    </tr>\n    <tr>\n      <th>1114</th>\n      <td>Юлия Д.</td>\n      <td>2022-07-26</td>\n      <td>NaN</td>\n      <td>NaN</td>\n      <td>NaN</td>\n      <td>NaN</td>\n      <td>NaN</td>\n      <td>Ужас</td>\n      <td>NaN</td>\n      <td>1.0</td>\n      <td>0</td>\n      <td>2</td>\n    </tr>\n    <tr>\n      <th>851</th>\n      <td>Лола Н.</td>\n      <td>2022-09-24</td>\n      <td>NaN</td>\n      <td>NaN</td>\n      <td>NaN</td>\n      <td>NaN</td>\n      <td>ткань хорошая очень 100% хлопок</td>\n      <td>нету</td>\n      <td>ещё заказала рекомендую</td>\n      <td>5.0</td>\n      <td>2</td>\n      <td>2</td>\n    </tr>\n    <tr>\n      <th>1144</th>\n      <td>Анна П.</td>\n      <td>2022-07-18</td>\n      <td>NaN</td>\n      <td>NaN</td>\n      <td>NaN</td>\n      <td>NaN</td>\n      <td>Оверсайз, да,  подходит, плотная, форму держит</td>\n      <td>Цвет более яркий, вкрапления какие-то имеются.</td>\n      <td>Я ожидала более  утонченный цвет этой футболки...</td>\n      <td>4.0</td>\n      <td>1</td>\n      <td>2</td>\n    </tr>\n    <tr>\n      <th>1020</th>\n      <td>Пользователь предпочёл скрыть свои данные</td>\n      <td>2022-08-14</td>\n      <td>NaN</td>\n      <td>NaN</td>\n      <td>NaN</td>\n      <td>NaN</td>\n      <td>Футболка плотная, не просвечивает. Всё прошито...</td>\n      <td>Нет.</td>\n      <td>Размер подошёл. 52-54 р-р. Мерки на фото.</td>\n      <td>5.0</td>\n      <td>18</td>\n      <td>1</td>\n    </tr>\n    <tr>\n      <th>79</th>\n      <td>Анна Л.</td>\n      <td>2023-01-30</td>\n      <td>NaN</td>\n      <td>NaN</td>\n      <td>NaN</td>\n      <td>NaN</td>\n      <td>хлопок отличного качества, швы хорошо обработаны.</td>\n      <td>нет</td>\n      <td>рекомендую к покупке</td>\n      <td>5.0</td>\n      <td>0</td>\n      <td>1</td>\n    </tr>\n    <tr>\n      <th>49</th>\n      <td>Anna J.</td>\n      <td>2023-01-02</td>\n      <td>лиловый</td>\n      <td>52-54</td>\n      <td>XXL</td>\n      <td>Лиловый</td>\n      <td>плотный хороший трикотаж , очень приятная расц...</td>\n      <td>плохо тянется</td>\n      <td>покупала 50/52 , поменяла 52/54</td>\n      <td>5.0</td>\n      <td>0</td>\n      <td>1</td>\n    </tr>\n    <tr>\n      <th>50</th>\n      <td>Anna J.</td>\n      <td>2023-01-02</td>\n      <td>голубой</td>\n      <td>52-54</td>\n      <td>XXL</td>\n      <td>Небо</td>\n      <td>отлчный трикотаж , цена по акции , приятный цвет</td>\n      <td>плохо тянется , надо брать на один - два разме...</td>\n      <td>поменяла с 50/52 на 52/54 - всё хорошо , тольк...</td>\n      <td>5.0</td>\n      <td>4</td>\n      <td>1</td>\n    </tr>\n    <tr>\n      <th>1164</th>\n      <td>Алина М.</td>\n      <td>2022-06-22</td>\n      <td>NaN</td>\n      <td>NaN</td>\n      <td>NaN</td>\n      <td>NaN</td>\n      <td>NaN</td>\n      <td>NaN</td>\n      <td>NaN</td>\n      <td>5.0</td>\n      <td>0</td>\n      <td>1</td>\n    </tr>\n  </tbody>\n</table>\n</div>"
     },
     "execution_count": 8,
     "metadata": {},
     "output_type": "execute_result"
    }
   ],
   "source": [
    "data.sort_values(by='downvote', ascending=False).head(10)"
   ],
   "metadata": {
    "collapsed": false,
    "pycharm": {
     "name": "#%%\n"
    }
   }
  },
  {
   "cell_type": "code",
   "execution_count": 9,
   "outputs": [
    {
     "data": {
      "text/plain": "4.882352941176471"
     },
     "execution_count": 9,
     "metadata": {},
     "output_type": "execute_result"
    }
   ],
   "source": [
    "data[data['цвет_товара'] == 'фиолетовый']['rate'].mean()"
   ],
   "metadata": {
    "collapsed": false,
    "pycharm": {
     "name": "#%%\n"
    }
   }
  }
 ],
 "metadata": {
  "kernelspec": {
   "display_name": "Python 3",
   "language": "python",
   "name": "python3"
  },
  "language_info": {
   "codemirror_mode": {
    "name": "ipython",
    "version": 2
   },
   "file_extension": ".py",
   "mimetype": "text/x-python",
   "name": "python",
   "nbconvert_exporter": "python",
   "pygments_lexer": "ipython2",
   "version": "2.7.6"
  }
 },
 "nbformat": 4,
 "nbformat_minor": 0
}