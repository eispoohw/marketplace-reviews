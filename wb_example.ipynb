{
 "cells": [
  {
   "cell_type": "code",
   "execution_count": 1,
   "metadata": {
    "collapsed": true
   },
   "outputs": [],
   "source": [
    "from parsers.WildberriesParser import WildberriesParser"
   ]
  },
  {
   "cell_type": "code",
   "execution_count": 2,
   "outputs": [],
   "source": [
    "wb_product = \"https://www.wildberries.ru/catalog/15096648/detail.aspx\"\n",
    "wb_filename = \"wb_out.html\""
   ],
   "metadata": {
    "collapsed": false,
    "pycharm": {
     "name": "#%%\n"
    }
   }
  },
  {
   "cell_type": "code",
   "execution_count": 3,
   "outputs": [
    {
     "name": "stdout",
     "output_type": "stream",
     "text": [
      "Parser created!\n",
      "Webdriver started.\n",
      "Collecting data from https://www.wildberries.ru/catalog/15096648/detail.aspx ...\n",
      "Scrolling page...\n"
     ]
    },
    {
     "name": "stderr",
     "output_type": "stream",
     "text": [
      "100it [01:42,  1.03s/it]\n"
     ]
    },
    {
     "name": "stdout",
     "output_type": "stream",
     "text": [
      "Scrolling completed!\n",
      "\n",
      "Data collected and stored in \"wb_out.html\"\n"
     ]
    }
   ],
   "source": [
    "parser = WildberriesParser()\n",
    "parser.get_raw_html(wb_product, wb_filename)"
   ],
   "metadata": {
    "collapsed": false,
    "pycharm": {
     "name": "#%%\n"
    }
   }
  },
  {
   "cell_type": "code",
   "execution_count": 4,
   "outputs": [
    {
     "name": "stdout",
     "output_type": "stream",
     "text": [
      "Found 1000 reviews\n"
     ]
    },
    {
     "name": "stderr",
     "output_type": "stream",
     "text": [
      "100%|██████████| 1000/1000 [00:03<00:00, 285.23it/s]"
     ]
    },
    {
     "name": "stdout",
     "output_type": "stream",
     "text": [
      "Done! Data saved to wb_out.csv\n"
     ]
    },
    {
     "name": "stderr",
     "output_type": "stream",
     "text": [
      "\n"
     ]
    }
   ],
   "source": [
    "data = parser.convert_html_to_csv(wb_filename)"
   ],
   "metadata": {
    "collapsed": false,
    "pycharm": {
     "name": "#%%\n"
    }
   }
  },
  {
   "cell_type": "code",
   "execution_count": 5,
   "outputs": [
    {
     "name": "stdout",
     "output_type": "stream",
     "text": [
      "<class 'pandas.core.frame.DataFrame'>\n",
      "RangeIndex: 1000 entries, 0 to 999\n",
      "Data columns (total 16 columns):\n",
      " #   Column          Non-Null Count  Dtype         \n",
      "---  ------          --------------  -----         \n",
      " 0   author          1000 non-null   object        \n",
      " 1   country         1000 non-null   object        \n",
      " 2   rate            1000 non-null   int64         \n",
      " 3   text            1000 non-null   object        \n",
      " 4   date            1000 non-null   datetime64[ns]\n",
      " 5   upvote          1000 non-null   int64         \n",
      " 6   downvote        1000 non-null   int64         \n",
      " 7   param_Цвет_0    998 non-null    object        \n",
      " 8   param_Размер_0  1000 non-null   object        \n",
      " 9   param_Размер_1  1000 non-null   object        \n",
      " 10  photos_count    1000 non-null   int64         \n",
      " 11  photo_0         1000 non-null   object        \n",
      " 12  photo_1         609 non-null    object        \n",
      " 13  photo_2         256 non-null    object        \n",
      " 14  photo_3         95 non-null     object        \n",
      " 15  photo_4         38 non-null     object        \n",
      "dtypes: datetime64[ns](1), int64(4), object(11)\n",
      "memory usage: 125.1+ KB\n"
     ]
    }
   ],
   "source": [
    "data.info()"
   ],
   "metadata": {
    "collapsed": false,
    "pycharm": {
     "name": "#%%\n"
    }
   }
  },
  {
   "cell_type": "code",
   "execution_count": 6,
   "outputs": [
    {
     "data": {
      "text/plain": "              rate       upvote     downvote  photos_count\ncount  1000.000000  1000.000000  1000.000000   1000.000000\nmean      4.595000     9.388000     1.345000      1.998000\nstd       0.912034    14.266429     4.472581      1.059773\nmin       1.000000     0.000000     0.000000      1.000000\n25%       5.000000     2.000000     0.000000      1.000000\n50%       5.000000     5.000000     1.000000      2.000000\n75%       5.000000    10.000000     1.000000      3.000000\nmax       5.000000   187.000000   126.000000      5.000000",
      "text/html": "<div>\n<style scoped>\n    .dataframe tbody tr th:only-of-type {\n        vertical-align: middle;\n    }\n\n    .dataframe tbody tr th {\n        vertical-align: top;\n    }\n\n    .dataframe thead th {\n        text-align: right;\n    }\n</style>\n<table border=\"1\" class=\"dataframe\">\n  <thead>\n    <tr style=\"text-align: right;\">\n      <th></th>\n      <th>rate</th>\n      <th>upvote</th>\n      <th>downvote</th>\n      <th>photos_count</th>\n    </tr>\n  </thead>\n  <tbody>\n    <tr>\n      <th>count</th>\n      <td>1000.000000</td>\n      <td>1000.000000</td>\n      <td>1000.000000</td>\n      <td>1000.000000</td>\n    </tr>\n    <tr>\n      <th>mean</th>\n      <td>4.595000</td>\n      <td>9.388000</td>\n      <td>1.345000</td>\n      <td>1.998000</td>\n    </tr>\n    <tr>\n      <th>std</th>\n      <td>0.912034</td>\n      <td>14.266429</td>\n      <td>4.472581</td>\n      <td>1.059773</td>\n    </tr>\n    <tr>\n      <th>min</th>\n      <td>1.000000</td>\n      <td>0.000000</td>\n      <td>0.000000</td>\n      <td>1.000000</td>\n    </tr>\n    <tr>\n      <th>25%</th>\n      <td>5.000000</td>\n      <td>2.000000</td>\n      <td>0.000000</td>\n      <td>1.000000</td>\n    </tr>\n    <tr>\n      <th>50%</th>\n      <td>5.000000</td>\n      <td>5.000000</td>\n      <td>1.000000</td>\n      <td>2.000000</td>\n    </tr>\n    <tr>\n      <th>75%</th>\n      <td>5.000000</td>\n      <td>10.000000</td>\n      <td>1.000000</td>\n      <td>3.000000</td>\n    </tr>\n    <tr>\n      <th>max</th>\n      <td>5.000000</td>\n      <td>187.000000</td>\n      <td>126.000000</td>\n      <td>5.000000</td>\n    </tr>\n  </tbody>\n</table>\n</div>"
     },
     "execution_count": 6,
     "metadata": {},
     "output_type": "execute_result"
    }
   ],
   "source": [
    "data.describe()"
   ],
   "metadata": {
    "collapsed": false,
    "pycharm": {
     "name": "#%%\n"
    }
   }
  },
  {
   "cell_type": "code",
   "execution_count": 7,
   "outputs": [
    {
     "data": {
      "text/plain": "        author country  rate  \\\n72     Татьяна      ru     4   \n764    Евгения      ru     5   \n444  Екатерина      ru     5   \n886       Анна      ru     5   \n994    Наталья      ru     5   \n\n                                                  text                date  \\\n72   Размер соответствует, качество супер. На рукав... 2023-01-30 15:23:00   \n764  Отличная футболка, качество на высоте, все швы... 2022-05-20 18:39:00   \n444  Отличные футболки. Взяла две - красную и белую... 2022-08-16 09:30:00   \n886  Футболка 🔥 Хорошо села и кач-во достойное, пос... 2022-03-30 11:31:00   \n994  Действительно большие футболки. Как я и хотела... 2021-02-25 14:26:00   \n\n     upvote  downvote param_Цвет_0 param_Размер_0         param_Размер_1  \\\n72        0         0       черный            3XL  Соответствует размеру   \n764      40         2         хаки              M  Соответствует размеру   \n444       2         0      красный            3XL  Соответствует размеру   \n886       8         0        белый              M  Соответствует размеру   \n994       6         0         лайм        M\\46-48  Соответствует размеру   \n\n     photos_count                                            photo_0  \\\n72              1  //feedback02.wb.ru/vol814/part81464/81464351/p...   \n764             3  //feedback02.wb.ru/vol537/part53750/53750291/p...   \n444             3  //feedback02.wb.ru/vol750/part75069/75069370/p...   \n886             1  //feedback02.wb.ru/vol524/part52440/52440949/p...   \n994             4  //feedback01.wb.ru/vol272/part27200/27200830/p...   \n\n                                               photo_1  \\\n72                                                 NaN   \n764  //feedback02.wb.ru/vol537/part53750/53750307/p...   \n444  //feedback02.wb.ru/vol750/part75069/75069380/p...   \n886                                                NaN   \n994  //feedback01.wb.ru/vol272/part27200/27200847/p...   \n\n                                               photo_2  \\\n72                                                 NaN   \n764  //feedback02.wb.ru/vol537/part53750/53750322/p...   \n444  //feedback02.wb.ru/vol750/part75069/75069391/p...   \n886                                                NaN   \n994  //feedback01.wb.ru/vol272/part27200/27200864/p...   \n\n                                               photo_3 photo_4  \n72                                                 NaN     NaN  \n764                                                NaN     NaN  \n444                                                NaN     NaN  \n886                                                NaN     NaN  \n994  //feedback01.wb.ru/vol272/part27200/27200886/p...     NaN  ",
      "text/html": "<div>\n<style scoped>\n    .dataframe tbody tr th:only-of-type {\n        vertical-align: middle;\n    }\n\n    .dataframe tbody tr th {\n        vertical-align: top;\n    }\n\n    .dataframe thead th {\n        text-align: right;\n    }\n</style>\n<table border=\"1\" class=\"dataframe\">\n  <thead>\n    <tr style=\"text-align: right;\">\n      <th></th>\n      <th>author</th>\n      <th>country</th>\n      <th>rate</th>\n      <th>text</th>\n      <th>date</th>\n      <th>upvote</th>\n      <th>downvote</th>\n      <th>param_Цвет_0</th>\n      <th>param_Размер_0</th>\n      <th>param_Размер_1</th>\n      <th>photos_count</th>\n      <th>photo_0</th>\n      <th>photo_1</th>\n      <th>photo_2</th>\n      <th>photo_3</th>\n      <th>photo_4</th>\n    </tr>\n  </thead>\n  <tbody>\n    <tr>\n      <th>72</th>\n      <td>Татьяна</td>\n      <td>ru</td>\n      <td>4</td>\n      <td>Размер соответствует, качество супер. На рукав...</td>\n      <td>2023-01-30 15:23:00</td>\n      <td>0</td>\n      <td>0</td>\n      <td>черный</td>\n      <td>3XL</td>\n      <td>Соответствует размеру</td>\n      <td>1</td>\n      <td>//feedback02.wb.ru/vol814/part81464/81464351/p...</td>\n      <td>NaN</td>\n      <td>NaN</td>\n      <td>NaN</td>\n      <td>NaN</td>\n    </tr>\n    <tr>\n      <th>764</th>\n      <td>Евгения</td>\n      <td>ru</td>\n      <td>5</td>\n      <td>Отличная футболка, качество на высоте, все швы...</td>\n      <td>2022-05-20 18:39:00</td>\n      <td>40</td>\n      <td>2</td>\n      <td>хаки</td>\n      <td>M</td>\n      <td>Соответствует размеру</td>\n      <td>3</td>\n      <td>//feedback02.wb.ru/vol537/part53750/53750291/p...</td>\n      <td>//feedback02.wb.ru/vol537/part53750/53750307/p...</td>\n      <td>//feedback02.wb.ru/vol537/part53750/53750322/p...</td>\n      <td>NaN</td>\n      <td>NaN</td>\n    </tr>\n    <tr>\n      <th>444</th>\n      <td>Екатерина</td>\n      <td>ru</td>\n      <td>5</td>\n      <td>Отличные футболки. Взяла две - красную и белую...</td>\n      <td>2022-08-16 09:30:00</td>\n      <td>2</td>\n      <td>0</td>\n      <td>красный</td>\n      <td>3XL</td>\n      <td>Соответствует размеру</td>\n      <td>3</td>\n      <td>//feedback02.wb.ru/vol750/part75069/75069370/p...</td>\n      <td>//feedback02.wb.ru/vol750/part75069/75069380/p...</td>\n      <td>//feedback02.wb.ru/vol750/part75069/75069391/p...</td>\n      <td>NaN</td>\n      <td>NaN</td>\n    </tr>\n    <tr>\n      <th>886</th>\n      <td>Анна</td>\n      <td>ru</td>\n      <td>5</td>\n      <td>Футболка 🔥 Хорошо села и кач-во достойное, пос...</td>\n      <td>2022-03-30 11:31:00</td>\n      <td>8</td>\n      <td>0</td>\n      <td>белый</td>\n      <td>M</td>\n      <td>Соответствует размеру</td>\n      <td>1</td>\n      <td>//feedback02.wb.ru/vol524/part52440/52440949/p...</td>\n      <td>NaN</td>\n      <td>NaN</td>\n      <td>NaN</td>\n      <td>NaN</td>\n    </tr>\n    <tr>\n      <th>994</th>\n      <td>Наталья</td>\n      <td>ru</td>\n      <td>5</td>\n      <td>Действительно большие футболки. Как я и хотела...</td>\n      <td>2021-02-25 14:26:00</td>\n      <td>6</td>\n      <td>0</td>\n      <td>лайм</td>\n      <td>M\\46-48</td>\n      <td>Соответствует размеру</td>\n      <td>4</td>\n      <td>//feedback01.wb.ru/vol272/part27200/27200830/p...</td>\n      <td>//feedback01.wb.ru/vol272/part27200/27200847/p...</td>\n      <td>//feedback01.wb.ru/vol272/part27200/27200864/p...</td>\n      <td>//feedback01.wb.ru/vol272/part27200/27200886/p...</td>\n      <td>NaN</td>\n    </tr>\n  </tbody>\n</table>\n</div>"
     },
     "execution_count": 7,
     "metadata": {},
     "output_type": "execute_result"
    }
   ],
   "source": [
    "data.sample(5)"
   ],
   "metadata": {
    "collapsed": false,
    "pycharm": {
     "name": "#%%\n"
    }
   }
  },
  {
   "cell_type": "code",
   "execution_count": 8,
   "outputs": [
    {
     "data": {
      "text/plain": "        author country  rate  \\\n221      Мария      ru     5   \n914      Ольга      ru     3   \n483     Галина      ru     5   \n846      Софья      ru     5   \n881      Алеся      ru     2   \n298  Анастасия      ru     5   \n183    Наталья      ru     5   \n508    Татьяна      ru     5   \n154      Елена      ru     5   \n336   Ангелина      ru     5   \n\n                                                  text                date  \\\n221  Короче, она стала свистеть и плавательный пузы... 2022-11-29 14:50:00   \n914  Футболка имеет странный крой. 1. Длинная очень... 2022-02-14 14:49:00   \n483  отличная футболка!) хотела взять размером мень... 2022-08-06 19:22:00   \n846  С дыркой на шве пришло, но я сразу зашила, тка... 2022-04-15 19:07:00   \n881  Ну что ж, такого фиаско ещё не было. Футболка ... 2022-04-01 09:38:00   \n298  миленькая футболка, я ростом 176 и xxl села но... 2022-10-16 09:28:00   \n183  Футболка пришла быстро, качество хорошее, ткан... 2022-12-21 18:06:00   \n508  Качество футболки мне понравилось. И цена тоже... 2022-08-01 19:10:00   \n154  Футболка отличная 👍 размеру соответствует , \\n... 2023-01-13 14:13:00   \n336  в полне хорошая футболка, very длинная, висело... 2022-09-16 19:51:00   \n\n     upvote  downvote param_Цвет_0 param_Размер_0         param_Размер_1  \\\n221      21       126   коричневый              L  Соответствует размеру   \n914      15        18          NaN        M\\46-48              Маломерит   \n483      31        16        белый             XL  Соответствует размеру   \n846      73        16   шоколадный              L  Соответствует размеру   \n881       6        14     сливовый            3XL              Маломерит   \n298      22        14       черный            XXL  Соответствует размеру   \n183      11        13      красный             XL              Маломерит   \n508      26        12      зеленый             XL              Маломерит   \n154       5        12       желтый            3XL  Соответствует размеру   \n336      16        11       черный             XL  Соответствует размеру   \n\n     photos_count                                            photo_0  \\\n221             5  //feedback02.wb.ru/vol478/part47846/47846998/p...   \n914             3  //feedback02.wb.ru/vol503/part50381/50381423/p...   \n483             1  //feedback02.wb.ru/vol617/part61768/61768729/p...   \n846             1  //feedback02.wb.ru/vol665/part66529/66529987/p...   \n881             5  //feedback02.wb.ru/vol515/part51510/51510945/p...   \n298             2  //feedback01.wb.ru/vol55/part5562/5562608/phot...   \n183             1  //feedback02.wb.ru/vol716/part71603/71603286/p...   \n508             2  //feedback02.wb.ru/vol601/part60105/60105928/p...   \n154             2  //feedback02.wb.ru/vol787/part78739/78739880/p...   \n336             2  //feedback02.wb.ru/vol651/part65191/65191903/p...   \n\n                                               photo_1  \\\n221  //feedback02.wb.ru/vol478/part47846/47846999/p...   \n914  //feedback02.wb.ru/vol503/part50381/50381442/p...   \n483                                                NaN   \n846                                                NaN   \n881  //feedback02.wb.ru/vol515/part51510/51510960/p...   \n298  //feedback01.wb.ru/vol55/part5562/5562609/phot...   \n183                                                NaN   \n508  //feedback02.wb.ru/vol601/part60105/60105946/p...   \n154  //feedback02.wb.ru/vol787/part78739/78739881/p...   \n336  //feedback02.wb.ru/vol651/part65191/65191920/p...   \n\n                                               photo_2  \\\n221  //feedback02.wb.ru/vol478/part47847/47847000/p...   \n914  //feedback02.wb.ru/vol503/part50381/50381461/p...   \n483                                                NaN   \n846                                                NaN   \n881  //feedback02.wb.ru/vol515/part51510/51510974/p...   \n298                                                NaN   \n183                                                NaN   \n508                                                NaN   \n154                                                NaN   \n336                                                NaN   \n\n                                               photo_3  \\\n221  //feedback02.wb.ru/vol478/part47847/47847002/p...   \n914                                                NaN   \n483                                                NaN   \n846                                                NaN   \n881  //feedback02.wb.ru/vol515/part51510/51510989/p...   \n298                                                NaN   \n183                                                NaN   \n508                                                NaN   \n154                                                NaN   \n336                                                NaN   \n\n                                               photo_4  \n221  //feedback02.wb.ru/vol478/part47847/47847003/p...  \n914                                                NaN  \n483                                                NaN  \n846                                                NaN  \n881  //feedback02.wb.ru/vol515/part51511/51511003/p...  \n298                                                NaN  \n183                                                NaN  \n508                                                NaN  \n154                                                NaN  \n336                                                NaN  ",
      "text/html": "<div>\n<style scoped>\n    .dataframe tbody tr th:only-of-type {\n        vertical-align: middle;\n    }\n\n    .dataframe tbody tr th {\n        vertical-align: top;\n    }\n\n    .dataframe thead th {\n        text-align: right;\n    }\n</style>\n<table border=\"1\" class=\"dataframe\">\n  <thead>\n    <tr style=\"text-align: right;\">\n      <th></th>\n      <th>author</th>\n      <th>country</th>\n      <th>rate</th>\n      <th>text</th>\n      <th>date</th>\n      <th>upvote</th>\n      <th>downvote</th>\n      <th>param_Цвет_0</th>\n      <th>param_Размер_0</th>\n      <th>param_Размер_1</th>\n      <th>photos_count</th>\n      <th>photo_0</th>\n      <th>photo_1</th>\n      <th>photo_2</th>\n      <th>photo_3</th>\n      <th>photo_4</th>\n    </tr>\n  </thead>\n  <tbody>\n    <tr>\n      <th>221</th>\n      <td>Мария</td>\n      <td>ru</td>\n      <td>5</td>\n      <td>Короче, она стала свистеть и плавательный пузы...</td>\n      <td>2022-11-29 14:50:00</td>\n      <td>21</td>\n      <td>126</td>\n      <td>коричневый</td>\n      <td>L</td>\n      <td>Соответствует размеру</td>\n      <td>5</td>\n      <td>//feedback02.wb.ru/vol478/part47846/47846998/p...</td>\n      <td>//feedback02.wb.ru/vol478/part47846/47846999/p...</td>\n      <td>//feedback02.wb.ru/vol478/part47847/47847000/p...</td>\n      <td>//feedback02.wb.ru/vol478/part47847/47847002/p...</td>\n      <td>//feedback02.wb.ru/vol478/part47847/47847003/p...</td>\n    </tr>\n    <tr>\n      <th>914</th>\n      <td>Ольга</td>\n      <td>ru</td>\n      <td>3</td>\n      <td>Футболка имеет странный крой. 1. Длинная очень...</td>\n      <td>2022-02-14 14:49:00</td>\n      <td>15</td>\n      <td>18</td>\n      <td>NaN</td>\n      <td>M\\46-48</td>\n      <td>Маломерит</td>\n      <td>3</td>\n      <td>//feedback02.wb.ru/vol503/part50381/50381423/p...</td>\n      <td>//feedback02.wb.ru/vol503/part50381/50381442/p...</td>\n      <td>//feedback02.wb.ru/vol503/part50381/50381461/p...</td>\n      <td>NaN</td>\n      <td>NaN</td>\n    </tr>\n    <tr>\n      <th>483</th>\n      <td>Галина</td>\n      <td>ru</td>\n      <td>5</td>\n      <td>отличная футболка!) хотела взять размером мень...</td>\n      <td>2022-08-06 19:22:00</td>\n      <td>31</td>\n      <td>16</td>\n      <td>белый</td>\n      <td>XL</td>\n      <td>Соответствует размеру</td>\n      <td>1</td>\n      <td>//feedback02.wb.ru/vol617/part61768/61768729/p...</td>\n      <td>NaN</td>\n      <td>NaN</td>\n      <td>NaN</td>\n      <td>NaN</td>\n    </tr>\n    <tr>\n      <th>846</th>\n      <td>Софья</td>\n      <td>ru</td>\n      <td>5</td>\n      <td>С дыркой на шве пришло, но я сразу зашила, тка...</td>\n      <td>2022-04-15 19:07:00</td>\n      <td>73</td>\n      <td>16</td>\n      <td>шоколадный</td>\n      <td>L</td>\n      <td>Соответствует размеру</td>\n      <td>1</td>\n      <td>//feedback02.wb.ru/vol665/part66529/66529987/p...</td>\n      <td>NaN</td>\n      <td>NaN</td>\n      <td>NaN</td>\n      <td>NaN</td>\n    </tr>\n    <tr>\n      <th>881</th>\n      <td>Алеся</td>\n      <td>ru</td>\n      <td>2</td>\n      <td>Ну что ж, такого фиаско ещё не было. Футболка ...</td>\n      <td>2022-04-01 09:38:00</td>\n      <td>6</td>\n      <td>14</td>\n      <td>сливовый</td>\n      <td>3XL</td>\n      <td>Маломерит</td>\n      <td>5</td>\n      <td>//feedback02.wb.ru/vol515/part51510/51510945/p...</td>\n      <td>//feedback02.wb.ru/vol515/part51510/51510960/p...</td>\n      <td>//feedback02.wb.ru/vol515/part51510/51510974/p...</td>\n      <td>//feedback02.wb.ru/vol515/part51510/51510989/p...</td>\n      <td>//feedback02.wb.ru/vol515/part51511/51511003/p...</td>\n    </tr>\n    <tr>\n      <th>298</th>\n      <td>Анастасия</td>\n      <td>ru</td>\n      <td>5</td>\n      <td>миленькая футболка, я ростом 176 и xxl села но...</td>\n      <td>2022-10-16 09:28:00</td>\n      <td>22</td>\n      <td>14</td>\n      <td>черный</td>\n      <td>XXL</td>\n      <td>Соответствует размеру</td>\n      <td>2</td>\n      <td>//feedback01.wb.ru/vol55/part5562/5562608/phot...</td>\n      <td>//feedback01.wb.ru/vol55/part5562/5562609/phot...</td>\n      <td>NaN</td>\n      <td>NaN</td>\n      <td>NaN</td>\n    </tr>\n    <tr>\n      <th>183</th>\n      <td>Наталья</td>\n      <td>ru</td>\n      <td>5</td>\n      <td>Футболка пришла быстро, качество хорошее, ткан...</td>\n      <td>2022-12-21 18:06:00</td>\n      <td>11</td>\n      <td>13</td>\n      <td>красный</td>\n      <td>XL</td>\n      <td>Маломерит</td>\n      <td>1</td>\n      <td>//feedback02.wb.ru/vol716/part71603/71603286/p...</td>\n      <td>NaN</td>\n      <td>NaN</td>\n      <td>NaN</td>\n      <td>NaN</td>\n    </tr>\n    <tr>\n      <th>508</th>\n      <td>Татьяна</td>\n      <td>ru</td>\n      <td>5</td>\n      <td>Качество футболки мне понравилось. И цена тоже...</td>\n      <td>2022-08-01 19:10:00</td>\n      <td>26</td>\n      <td>12</td>\n      <td>зеленый</td>\n      <td>XL</td>\n      <td>Маломерит</td>\n      <td>2</td>\n      <td>//feedback02.wb.ru/vol601/part60105/60105928/p...</td>\n      <td>//feedback02.wb.ru/vol601/part60105/60105946/p...</td>\n      <td>NaN</td>\n      <td>NaN</td>\n      <td>NaN</td>\n    </tr>\n    <tr>\n      <th>154</th>\n      <td>Елена</td>\n      <td>ru</td>\n      <td>5</td>\n      <td>Футболка отличная 👍 размеру соответствует , \\n...</td>\n      <td>2023-01-13 14:13:00</td>\n      <td>5</td>\n      <td>12</td>\n      <td>желтый</td>\n      <td>3XL</td>\n      <td>Соответствует размеру</td>\n      <td>2</td>\n      <td>//feedback02.wb.ru/vol787/part78739/78739880/p...</td>\n      <td>//feedback02.wb.ru/vol787/part78739/78739881/p...</td>\n      <td>NaN</td>\n      <td>NaN</td>\n      <td>NaN</td>\n    </tr>\n    <tr>\n      <th>336</th>\n      <td>Ангелина</td>\n      <td>ru</td>\n      <td>5</td>\n      <td>в полне хорошая футболка, very длинная, висело...</td>\n      <td>2022-09-16 19:51:00</td>\n      <td>16</td>\n      <td>11</td>\n      <td>черный</td>\n      <td>XL</td>\n      <td>Соответствует размеру</td>\n      <td>2</td>\n      <td>//feedback02.wb.ru/vol651/part65191/65191903/p...</td>\n      <td>//feedback02.wb.ru/vol651/part65191/65191920/p...</td>\n      <td>NaN</td>\n      <td>NaN</td>\n      <td>NaN</td>\n    </tr>\n  </tbody>\n</table>\n</div>"
     },
     "execution_count": 8,
     "metadata": {},
     "output_type": "execute_result"
    }
   ],
   "source": [
    "data.sort_values(by='downvote', ascending=False).head(10)"
   ],
   "metadata": {
    "collapsed": false,
    "pycharm": {
     "name": "#%%\n"
    }
   }
  },
  {
   "cell_type": "code",
   "execution_count": 12,
   "outputs": [
    {
     "data": {
      "text/plain": "4.6923076923076925"
     },
     "execution_count": 12,
     "metadata": {},
     "output_type": "execute_result"
    }
   ],
   "source": [
    "data[data['param_Цвет_0'] == 'сиреневый']['rate'].mean()"
   ],
   "metadata": {
    "collapsed": false,
    "pycharm": {
     "name": "#%%\n"
    }
   }
  }
 ],
 "metadata": {
  "kernelspec": {
   "display_name": "Python 3",
   "language": "python",
   "name": "python3"
  },
  "language_info": {
   "codemirror_mode": {
    "name": "ipython",
    "version": 2
   },
   "file_extension": ".py",
   "mimetype": "text/x-python",
   "name": "python",
   "nbconvert_exporter": "python",
   "pygments_lexer": "ipython2",
   "version": "2.7.6"
  }
 },
 "nbformat": 4,
 "nbformat_minor": 0
}