{
 "cells": [
  {
   "cell_type": "code",
   "execution_count": 1,
   "metadata": {
    "collapsed": true
   },
   "outputs": [],
   "source": [
    "import pandas as pd\n",
    "from parsers.WildberriesParser import WildberriesReviewsParser"
   ]
  },
  {
   "cell_type": "code",
   "execution_count": 2,
   "outputs": [],
   "source": [
    "wb_filename = \"wb_out.html\"\n",
    "wb_product = \"https://www.wildberries.ru/catalog/15096648/detail.aspx\""
   ],
   "metadata": {
    "collapsed": false,
    "pycharm": {
     "name": "#%%\n"
    }
   }
  },
  {
   "cell_type": "code",
   "execution_count": 3,
   "outputs": [
    {
     "name": "stdout",
     "output_type": "stream",
     "text": [
      "Parser created!\n",
      "Webdriver initialization...\n",
      "Webdriver started!\n",
      "\n",
      "Collecting data from https://www.wildberries.ru/catalog/15096648/detail.aspx ...\n",
      "Scrolling page...\n"
     ]
    },
    {
     "name": "stderr",
     "output_type": "stream",
     "text": [
      "100it [01:43,  1.03s/it]\n"
     ]
    },
    {
     "name": "stdout",
     "output_type": "stream",
     "text": [
      "Scrolling completed!\n",
      "\n",
      "Data collected and stored in wb_out.html\n"
     ]
    },
    {
     "data": {
      "text/plain": "'wb_out.html'"
     },
     "execution_count": 3,
     "metadata": {},
     "output_type": "execute_result"
    }
   ],
   "source": [
    "parser = WildberriesReviewsParser()\n",
    "parser.get_raw_html(wb_product, wb_filename)"
   ],
   "metadata": {
    "collapsed": false,
    "pycharm": {
     "name": "#%%\n"
    }
   }
  },
  {
   "cell_type": "code",
   "execution_count": 4,
   "outputs": [
    {
     "name": "stdout",
     "output_type": "stream",
     "text": [
      "Parser created!\n",
      "Starting to convert\n",
      "Soup created\n",
      "Found 1000 reviews\n"
     ]
    },
    {
     "name": "stderr",
     "output_type": "stream",
     "text": [
      "1000it [00:05, 181.12it/s]"
     ]
    },
    {
     "name": "stdout",
     "output_type": "stream",
     "text": [
      "Done! Data saved to wb_out.csv\n"
     ]
    },
    {
     "name": "stderr",
     "output_type": "stream",
     "text": [
      "\n"
     ]
    }
   ],
   "source": [
    "parser = WildberriesReviewsParser()\n",
    "data = parser.convert_html_to_csv(wb_filename)"
   ],
   "metadata": {
    "collapsed": false,
    "pycharm": {
     "name": "#%%\n"
    }
   }
  },
  {
   "cell_type": "code",
   "execution_count": 5,
   "outputs": [
    {
     "name": "stdout",
     "output_type": "stream",
     "text": [
      "<class 'pandas.core.frame.DataFrame'>\n",
      "RangeIndex: 1000 entries, 0 to 999\n",
      "Data columns (total 16 columns):\n",
      " #   Column          Non-Null Count  Dtype \n",
      "---  ------          --------------  ----- \n",
      " 0   author          1000 non-null   object\n",
      " 1   country         1000 non-null   object\n",
      " 2   rate            1000 non-null   int64 \n",
      " 3   text            1000 non-null   object\n",
      " 4   date            1000 non-null   object\n",
      " 5   upvote          1000 non-null   int64 \n",
      " 6   downvote        1000 non-null   int64 \n",
      " 7   param_Цвет_0    998 non-null    object\n",
      " 8   param_Размер_0  1000 non-null   object\n",
      " 9   param_Размер_1  1000 non-null   object\n",
      " 10  photos_count    1000 non-null   int64 \n",
      " 11  photo_0         1000 non-null   object\n",
      " 12  photo_1         607 non-null    object\n",
      " 13  photo_2         255 non-null    object\n",
      " 14  photo_3         94 non-null     object\n",
      " 15  photo_4         38 non-null     object\n",
      "dtypes: int64(4), object(12)\n",
      "memory usage: 125.1+ KB\n"
     ]
    }
   ],
   "source": [
    "data = pd.read_csv(\"wb_out.csv\")\n",
    "data.info()"
   ],
   "metadata": {
    "collapsed": false,
    "pycharm": {
     "name": "#%%\n"
    }
   }
  },
  {
   "cell_type": "code",
   "execution_count": 6,
   "outputs": [
    {
     "data": {
      "text/plain": "              rate       upvote     downvote  photos_count\ncount  1000.000000  1000.000000  1000.000000   1000.000000\nmean      4.595000     9.428000     1.346000      1.994000\nstd       0.912034    14.253911     4.466344      1.058813\nmin       1.000000     0.000000     0.000000      1.000000\n25%       5.000000     2.000000     0.000000      1.000000\n50%       5.000000     5.000000     1.000000      2.000000\n75%       5.000000    10.000000     1.000000      3.000000\nmax       5.000000   187.000000   126.000000      5.000000",
      "text/html": "<div>\n<style scoped>\n    .dataframe tbody tr th:only-of-type {\n        vertical-align: middle;\n    }\n\n    .dataframe tbody tr th {\n        vertical-align: top;\n    }\n\n    .dataframe thead th {\n        text-align: right;\n    }\n</style>\n<table border=\"1\" class=\"dataframe\">\n  <thead>\n    <tr style=\"text-align: right;\">\n      <th></th>\n      <th>rate</th>\n      <th>upvote</th>\n      <th>downvote</th>\n      <th>photos_count</th>\n    </tr>\n  </thead>\n  <tbody>\n    <tr>\n      <th>count</th>\n      <td>1000.000000</td>\n      <td>1000.000000</td>\n      <td>1000.000000</td>\n      <td>1000.000000</td>\n    </tr>\n    <tr>\n      <th>mean</th>\n      <td>4.595000</td>\n      <td>9.428000</td>\n      <td>1.346000</td>\n      <td>1.994000</td>\n    </tr>\n    <tr>\n      <th>std</th>\n      <td>0.912034</td>\n      <td>14.253911</td>\n      <td>4.466344</td>\n      <td>1.058813</td>\n    </tr>\n    <tr>\n      <th>min</th>\n      <td>1.000000</td>\n      <td>0.000000</td>\n      <td>0.000000</td>\n      <td>1.000000</td>\n    </tr>\n    <tr>\n      <th>25%</th>\n      <td>5.000000</td>\n      <td>2.000000</td>\n      <td>0.000000</td>\n      <td>1.000000</td>\n    </tr>\n    <tr>\n      <th>50%</th>\n      <td>5.000000</td>\n      <td>5.000000</td>\n      <td>1.000000</td>\n      <td>2.000000</td>\n    </tr>\n    <tr>\n      <th>75%</th>\n      <td>5.000000</td>\n      <td>10.000000</td>\n      <td>1.000000</td>\n      <td>3.000000</td>\n    </tr>\n    <tr>\n      <th>max</th>\n      <td>5.000000</td>\n      <td>187.000000</td>\n      <td>126.000000</td>\n      <td>5.000000</td>\n    </tr>\n  </tbody>\n</table>\n</div>"
     },
     "execution_count": 6,
     "metadata": {},
     "output_type": "execute_result"
    }
   ],
   "source": [
    "data.describe()"
   ],
   "metadata": {
    "collapsed": false,
    "pycharm": {
     "name": "#%%\n"
    }
   }
  },
  {
   "cell_type": "code",
   "execution_count": 7,
   "outputs": [
    {
     "data": {
      "text/plain": "        author country  rate  \\\n963   Кристина      ru     5   \n971  Екатерина      ru     5   \n849       Анна      ru     5   \n974      Елена      ru     4   \n410      Дарья      ru     5   \n909  Анастасия      ru     5   \n842      Софья      ru     5   \n965      Алиса      ru     5   \n236     Таисия      ru     5   \n484      Алиса      ru     5   \n\n                                                  text                 date  \\\n963  Отличная вещь, выгодная покупка!!! Плотный мат...  2021-05-24 17:33:00   \n971  Пришла с браком покраски, приложила фото, но я...  2021-05-06 15:15:00   \n849  Прекрасная футболка. За эту стоимость просто о...  2022-04-14 18:36:00   \n974  Брала для кастома. Ещё не стирала. Думаю самый...  2021-04-27 13:21:00   \n410                                        обожаю ее!!  2022-08-22 11:21:00   \n909  Хорошие плотные футболки. Много раз брала разн...  2022-02-17 00:59:00   \n842  С дыркой на шве пришло, но я сразу зашила, тка...  2022-04-15 19:07:00   \n965  Отлично подходит доя кастома (акрил+контур Дек...  2021-05-20 13:14:00   \n236  классная футболка, у меня есть такие же в крас...  2022-11-13 15:22:00   \n484  Футболка отличная за 300р, совсем немного прос...  2022-08-04 14:15:00   \n\n     upvote  downvote param_Цвет_0 param_Размер_0         param_Размер_1  \\\n963     187         3     песочный        L\\48-50  Соответствует размеру   \n971     168         2     лазурный        S\\44-46  Соответствует размеру   \n849     128         1       фуксия              L  Соответствует размеру   \n974     105         4        белый      XXL\\52-54  Соответствует размеру   \n410      96         8      зеленый            3XL  Соответствует размеру   \n909      77         1     бордовый        M\\46-48              Маломерит   \n842      73        16   шоколадный              L  Соответствует размеру   \n965      71         1        белый        L\\48-50  Соответствует размеру   \n236      69         1      зеленый            3XL  Соответствует размеру   \n484      65         3        белый             XL  Соответствует размеру   \n\n     photos_count                                            photo_0  \\\n963             1  //feedback01.wb.ru/vol233/part23346/23346263/p...   \n971             2  //feedback01.wb.ru/vol224/part22498/22498518/p...   \n849             5  //feedback02.wb.ru/vol647/part64743/64743898/p...   \n974             2  //feedback01.wb.ru/vol279/part27973/27973642/p...   \n410             3  //feedback02.wb.ru/vol536/part53675/53675384/p...   \n909             3  //feedback02.wb.ru/vol515/part51554/51554226/p...   \n842             1  //feedback02.wb.ru/vol665/part66529/66529987/p...   \n965             2  //feedback01.wb.ru/vol246/part24674/24674833/p...   \n236             1  //feedback01.wb.ru/vol337/part33731/33731311/p...   \n484             2  //feedback02.wb.ru/vol701/part70107/70107844/p...   \n\n                                               photo_1  \\\n963                                                NaN   \n971  //feedback01.wb.ru/vol224/part22498/22498533/p...   \n849  //feedback02.wb.ru/vol647/part64743/64743919/p...   \n974  //feedback01.wb.ru/vol279/part27973/27973656/p...   \n410  //feedback02.wb.ru/vol536/part53675/53675399/p...   \n909  //feedback02.wb.ru/vol515/part51554/51554241/p...   \n842                                                NaN   \n965  //feedback01.wb.ru/vol246/part24674/24674847/p...   \n236                                                NaN   \n484  //feedback02.wb.ru/vol701/part70107/70107863/p...   \n\n                                               photo_2  \\\n963                                                NaN   \n971                                                NaN   \n849  //feedback02.wb.ru/vol647/part64743/64743935/p...   \n974                                                NaN   \n410  //feedback02.wb.ru/vol536/part53675/53675415/p...   \n909  //feedback02.wb.ru/vol515/part51554/51554256/p...   \n842                                                NaN   \n965                                                NaN   \n236                                                NaN   \n484                                                NaN   \n\n                                               photo_3  \\\n963                                                NaN   \n971                                                NaN   \n849  //feedback02.wb.ru/vol647/part64743/64743949/p...   \n974                                                NaN   \n410                                                NaN   \n909                                                NaN   \n842                                                NaN   \n965                                                NaN   \n236                                                NaN   \n484                                                NaN   \n\n                                               photo_4  \n963                                                NaN  \n971                                                NaN  \n849  //feedback02.wb.ru/vol647/part64743/64743967/p...  \n974                                                NaN  \n410                                                NaN  \n909                                                NaN  \n842                                                NaN  \n965                                                NaN  \n236                                                NaN  \n484                                                NaN  ",
      "text/html": "<div>\n<style scoped>\n    .dataframe tbody tr th:only-of-type {\n        vertical-align: middle;\n    }\n\n    .dataframe tbody tr th {\n        vertical-align: top;\n    }\n\n    .dataframe thead th {\n        text-align: right;\n    }\n</style>\n<table border=\"1\" class=\"dataframe\">\n  <thead>\n    <tr style=\"text-align: right;\">\n      <th></th>\n      <th>author</th>\n      <th>country</th>\n      <th>rate</th>\n      <th>text</th>\n      <th>date</th>\n      <th>upvote</th>\n      <th>downvote</th>\n      <th>param_Цвет_0</th>\n      <th>param_Размер_0</th>\n      <th>param_Размер_1</th>\n      <th>photos_count</th>\n      <th>photo_0</th>\n      <th>photo_1</th>\n      <th>photo_2</th>\n      <th>photo_3</th>\n      <th>photo_4</th>\n    </tr>\n  </thead>\n  <tbody>\n    <tr>\n      <th>963</th>\n      <td>Кристина</td>\n      <td>ru</td>\n      <td>5</td>\n      <td>Отличная вещь, выгодная покупка!!! Плотный мат...</td>\n      <td>2021-05-24 17:33:00</td>\n      <td>187</td>\n      <td>3</td>\n      <td>песочный</td>\n      <td>L\\48-50</td>\n      <td>Соответствует размеру</td>\n      <td>1</td>\n      <td>//feedback01.wb.ru/vol233/part23346/23346263/p...</td>\n      <td>NaN</td>\n      <td>NaN</td>\n      <td>NaN</td>\n      <td>NaN</td>\n    </tr>\n    <tr>\n      <th>971</th>\n      <td>Екатерина</td>\n      <td>ru</td>\n      <td>5</td>\n      <td>Пришла с браком покраски, приложила фото, но я...</td>\n      <td>2021-05-06 15:15:00</td>\n      <td>168</td>\n      <td>2</td>\n      <td>лазурный</td>\n      <td>S\\44-46</td>\n      <td>Соответствует размеру</td>\n      <td>2</td>\n      <td>//feedback01.wb.ru/vol224/part22498/22498518/p...</td>\n      <td>//feedback01.wb.ru/vol224/part22498/22498533/p...</td>\n      <td>NaN</td>\n      <td>NaN</td>\n      <td>NaN</td>\n    </tr>\n    <tr>\n      <th>849</th>\n      <td>Анна</td>\n      <td>ru</td>\n      <td>5</td>\n      <td>Прекрасная футболка. За эту стоимость просто о...</td>\n      <td>2022-04-14 18:36:00</td>\n      <td>128</td>\n      <td>1</td>\n      <td>фуксия</td>\n      <td>L</td>\n      <td>Соответствует размеру</td>\n      <td>5</td>\n      <td>//feedback02.wb.ru/vol647/part64743/64743898/p...</td>\n      <td>//feedback02.wb.ru/vol647/part64743/64743919/p...</td>\n      <td>//feedback02.wb.ru/vol647/part64743/64743935/p...</td>\n      <td>//feedback02.wb.ru/vol647/part64743/64743949/p...</td>\n      <td>//feedback02.wb.ru/vol647/part64743/64743967/p...</td>\n    </tr>\n    <tr>\n      <th>974</th>\n      <td>Елена</td>\n      <td>ru</td>\n      <td>4</td>\n      <td>Брала для кастома. Ещё не стирала. Думаю самый...</td>\n      <td>2021-04-27 13:21:00</td>\n      <td>105</td>\n      <td>4</td>\n      <td>белый</td>\n      <td>XXL\\52-54</td>\n      <td>Соответствует размеру</td>\n      <td>2</td>\n      <td>//feedback01.wb.ru/vol279/part27973/27973642/p...</td>\n      <td>//feedback01.wb.ru/vol279/part27973/27973656/p...</td>\n      <td>NaN</td>\n      <td>NaN</td>\n      <td>NaN</td>\n    </tr>\n    <tr>\n      <th>410</th>\n      <td>Дарья</td>\n      <td>ru</td>\n      <td>5</td>\n      <td>обожаю ее!!</td>\n      <td>2022-08-22 11:21:00</td>\n      <td>96</td>\n      <td>8</td>\n      <td>зеленый</td>\n      <td>3XL</td>\n      <td>Соответствует размеру</td>\n      <td>3</td>\n      <td>//feedback02.wb.ru/vol536/part53675/53675384/p...</td>\n      <td>//feedback02.wb.ru/vol536/part53675/53675399/p...</td>\n      <td>//feedback02.wb.ru/vol536/part53675/53675415/p...</td>\n      <td>NaN</td>\n      <td>NaN</td>\n    </tr>\n    <tr>\n      <th>909</th>\n      <td>Анастасия</td>\n      <td>ru</td>\n      <td>5</td>\n      <td>Хорошие плотные футболки. Много раз брала разн...</td>\n      <td>2022-02-17 00:59:00</td>\n      <td>77</td>\n      <td>1</td>\n      <td>бордовый</td>\n      <td>M\\46-48</td>\n      <td>Маломерит</td>\n      <td>3</td>\n      <td>//feedback02.wb.ru/vol515/part51554/51554226/p...</td>\n      <td>//feedback02.wb.ru/vol515/part51554/51554241/p...</td>\n      <td>//feedback02.wb.ru/vol515/part51554/51554256/p...</td>\n      <td>NaN</td>\n      <td>NaN</td>\n    </tr>\n    <tr>\n      <th>842</th>\n      <td>Софья</td>\n      <td>ru</td>\n      <td>5</td>\n      <td>С дыркой на шве пришло, но я сразу зашила, тка...</td>\n      <td>2022-04-15 19:07:00</td>\n      <td>73</td>\n      <td>16</td>\n      <td>шоколадный</td>\n      <td>L</td>\n      <td>Соответствует размеру</td>\n      <td>1</td>\n      <td>//feedback02.wb.ru/vol665/part66529/66529987/p...</td>\n      <td>NaN</td>\n      <td>NaN</td>\n      <td>NaN</td>\n      <td>NaN</td>\n    </tr>\n    <tr>\n      <th>965</th>\n      <td>Алиса</td>\n      <td>ru</td>\n      <td>5</td>\n      <td>Отлично подходит доя кастома (акрил+контур Дек...</td>\n      <td>2021-05-20 13:14:00</td>\n      <td>71</td>\n      <td>1</td>\n      <td>белый</td>\n      <td>L\\48-50</td>\n      <td>Соответствует размеру</td>\n      <td>2</td>\n      <td>//feedback01.wb.ru/vol246/part24674/24674833/p...</td>\n      <td>//feedback01.wb.ru/vol246/part24674/24674847/p...</td>\n      <td>NaN</td>\n      <td>NaN</td>\n      <td>NaN</td>\n    </tr>\n    <tr>\n      <th>236</th>\n      <td>Таисия</td>\n      <td>ru</td>\n      <td>5</td>\n      <td>классная футболка, у меня есть такие же в крас...</td>\n      <td>2022-11-13 15:22:00</td>\n      <td>69</td>\n      <td>1</td>\n      <td>зеленый</td>\n      <td>3XL</td>\n      <td>Соответствует размеру</td>\n      <td>1</td>\n      <td>//feedback01.wb.ru/vol337/part33731/33731311/p...</td>\n      <td>NaN</td>\n      <td>NaN</td>\n      <td>NaN</td>\n      <td>NaN</td>\n    </tr>\n    <tr>\n      <th>484</th>\n      <td>Алиса</td>\n      <td>ru</td>\n      <td>5</td>\n      <td>Футболка отличная за 300р, совсем немного прос...</td>\n      <td>2022-08-04 14:15:00</td>\n      <td>65</td>\n      <td>3</td>\n      <td>белый</td>\n      <td>XL</td>\n      <td>Соответствует размеру</td>\n      <td>2</td>\n      <td>//feedback02.wb.ru/vol701/part70107/70107844/p...</td>\n      <td>//feedback02.wb.ru/vol701/part70107/70107863/p...</td>\n      <td>NaN</td>\n      <td>NaN</td>\n      <td>NaN</td>\n    </tr>\n  </tbody>\n</table>\n</div>"
     },
     "execution_count": 7,
     "metadata": {},
     "output_type": "execute_result"
    }
   ],
   "source": [
    "data.sort_values(by='upvote', ascending=False).head(10)"
   ],
   "metadata": {
    "collapsed": false,
    "pycharm": {
     "name": "#%%\n"
    }
   }
  },
  {
   "cell_type": "code",
   "execution_count": 8,
   "outputs": [
    {
     "name": "stdout",
     "output_type": "stream",
     "text": [
      "['Короче, она стала свистеть и плавательный пузырь внутри не выдержала. Сосисочное брюхо оторвалось и пошло по свистку мелкими пузырьками. Ну и я естественно по свисток пошел. А тут, бац. Приземлился. Встаю на одно колено. В другой руке сковородка. Из отверстия пар валит. И в этом дыму, вижу что под ухом у меня два пупырчатых яблока болтаются. Один уже синий. А второй зеленый. И дятел из них раздолбанный пер. Хохочет. С упыреным смешком. Ну а я, естественно, по свищу…Не, ну я конечно попытался пошевелить пальцами. Но безрезультатно. Еще разок попробовал. Тщетно. Смерил температуру. Нету ее. Потом оглядел себя. А я в чем. В облаке. Три яблока, что слева и два что справа сидят в своей жиже и не шевелятся. Надо бы быстро… Одуреть. Надо все же проверить. А то сзади что-то хлюпает. Вот думаю, еще разок сбегаю. И тут справа чихает. Тихо так. И из дырки, что посередине, сначала пух летит. А потом ошметки какие-то и плесень. Наверное откуда-то из загонов прибежало.']\n"
     ]
    }
   ],
   "source": [
    "print(data[data['downvote'] == 126]['text'].values)"
   ],
   "metadata": {
    "collapsed": false,
    "pycharm": {
     "name": "#%%\n"
    }
   }
  },
  {
   "cell_type": "code",
   "execution_count": 9,
   "outputs": [
    {
     "data": {
      "text/plain": "       author country  rate  \\\n963  Кристина      ru     5   \n\n                                                  text                 date  \\\n963  Отличная вещь, выгодная покупка!!! Плотный мат...  2021-05-24 17:33:00   \n\n     upvote  downvote param_Цвет_0 param_Размер_0         param_Размер_1  \\\n963     187         3     песочный        L\\48-50  Соответствует размеру   \n\n     photos_count                                            photo_0 photo_1  \\\n963             1  //feedback01.wb.ru/vol233/part23346/23346263/p...     NaN   \n\n    photo_2 photo_3 photo_4  \n963     NaN     NaN     NaN  ",
      "text/html": "<div>\n<style scoped>\n    .dataframe tbody tr th:only-of-type {\n        vertical-align: middle;\n    }\n\n    .dataframe tbody tr th {\n        vertical-align: top;\n    }\n\n    .dataframe thead th {\n        text-align: right;\n    }\n</style>\n<table border=\"1\" class=\"dataframe\">\n  <thead>\n    <tr style=\"text-align: right;\">\n      <th></th>\n      <th>author</th>\n      <th>country</th>\n      <th>rate</th>\n      <th>text</th>\n      <th>date</th>\n      <th>upvote</th>\n      <th>downvote</th>\n      <th>param_Цвет_0</th>\n      <th>param_Размер_0</th>\n      <th>param_Размер_1</th>\n      <th>photos_count</th>\n      <th>photo_0</th>\n      <th>photo_1</th>\n      <th>photo_2</th>\n      <th>photo_3</th>\n      <th>photo_4</th>\n    </tr>\n  </thead>\n  <tbody>\n    <tr>\n      <th>963</th>\n      <td>Кристина</td>\n      <td>ru</td>\n      <td>5</td>\n      <td>Отличная вещь, выгодная покупка!!! Плотный мат...</td>\n      <td>2021-05-24 17:33:00</td>\n      <td>187</td>\n      <td>3</td>\n      <td>песочный</td>\n      <td>L\\48-50</td>\n      <td>Соответствует размеру</td>\n      <td>1</td>\n      <td>//feedback01.wb.ru/vol233/part23346/23346263/p...</td>\n      <td>NaN</td>\n      <td>NaN</td>\n      <td>NaN</td>\n      <td>NaN</td>\n    </tr>\n  </tbody>\n</table>\n</div>"
     },
     "execution_count": 9,
     "metadata": {},
     "output_type": "execute_result"
    }
   ],
   "source": [
    "data[data['upvote'] == 187]"
   ],
   "metadata": {
    "collapsed": false,
    "pycharm": {
     "name": "#%%\n"
    }
   }
  }
 ],
 "metadata": {
  "kernelspec": {
   "display_name": "Python 3",
   "language": "python",
   "name": "python3"
  },
  "language_info": {
   "codemirror_mode": {
    "name": "ipython",
    "version": 2
   },
   "file_extension": ".py",
   "mimetype": "text/x-python",
   "name": "python",
   "nbconvert_exporter": "python",
   "pygments_lexer": "ipython2",
   "version": "2.7.6"
  }
 },
 "nbformat": 4,
 "nbformat_minor": 0
}